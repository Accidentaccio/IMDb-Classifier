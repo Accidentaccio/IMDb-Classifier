{
 "cells": [
  {
   "cell_type": "markdown",
   "metadata": {},
   "source": [
    "Importiamo le librerie necessarie per lo scraping e la creazione dei Dataset di test in files con estensione \".csv\"."
   ]
  },
  {
   "cell_type": "code",
   "execution_count": null,
   "metadata": {},
   "outputs": [],
   "source": [
    "from selenium import webdriver\n",
    "from selenium.webdriver.chrome.service import Service\n",
    "from selenium.webdriver.common.by import By\n",
    "from selenium.common.exceptions import NoSuchElementException, ElementClickInterceptedException, ElementNotInteractableException\n",
    "from pandas import DataFrame\n",
    "from os import chdir\n",
    "from sys import path"
   ]
  },
  {
   "cell_type": "markdown",
   "metadata": {},
   "source": [
    "Per comodità eseguiamo lo script nella stessa cartella in cui è presente il file."
   ]
  },
  {
   "cell_type": "code",
   "execution_count": null,
   "metadata": {},
   "outputs": [],
   "source": [
    "chdir(path[0])"
   ]
  },
  {
   "cell_type": "markdown",
   "metadata": {},
   "source": [
    "Creiamo il dizionario che sarà utile per relazionare il nome del film con il suo relativo link all'IMDb. Abbiamo ordinato le recensioni dalla più recente, evitando di posizionare le più votate o quelle con i voti più alti nelle prime posizioni. La cosa è comunque non particolarmente rilevante dal momento che andremo ad eseguire lo scraping di tutte le recensioni per tutti i film, senza lasciare la possibilità di aver analizzato un campione non rappresentativo dell'intera popolazione di recensioni."
   ]
  },
  {
   "cell_type": "code",
   "execution_count": null,
   "metadata": {},
   "outputs": [],
   "source": [
    "films = {\n",
    "    'Iron Man': 'https://www.imdb.com/title/tt0371746/reviews?sort=submissionDate&dir=desc&ratingFilter=0',\n",
    "    'L\\'incredibile Hulk': 'https://www.imdb.com/title/tt0800080/reviews?sort=submissionDate&dir=desc&ratingFilter=0',\n",
    "    'Iron Man 2': 'https://www.imdb.com/title/tt1228705/reviews?sort=submissionDate&dir=desc&ratingFilter=0',\n",
    "    'Thor': 'https://www.imdb.com/title/tt0800369/reviews?sort=submissionDate&dir=desc&ratingFilter=0',\n",
    "    'Captain America - Il primo vendicatore': 'https://www.imdb.com/title/tt0458339/reviews?sort=submissionDate&dir=desc&ratingFilter=0',\n",
    "    'The Avengers': 'https://www.imdb.com/title/tt0848228/reviews?sort=submissionDate&dir=desc&ratingFilter=0',\n",
    "    'Iron Man 3': 'https://www.imdb.com/title/tt1300854/reviews?sort=submissionDate&dir=desc&ratingFilter=0',\n",
    "    'Thor - The Dark World': 'https://www.imdb.com/title/tt1981115/reviews?sort=submissionDate&dir=desc&ratingFilter=0',\n",
    "    'Captain America - The Winter Soldier': 'https://www.imdb.com/title/tt1843866/reviews?sort=submissionDate&dir=desc&ratingFilter=0',\n",
    "    'Guardiani della Galassia': 'https://www.imdb.com/title/tt2015381/reviews?sort=submissionDate&dir=desc&ratingFilter=0',\n",
    "    'Avengers - Age of Ultron': 'https://www.imdb.com/title/tt2395427/reviews?sort=submissionDate&dir=desc&ratingFilter=0',\n",
    "    'Ant-Man': 'https://www.imdb.com/title/tt0478970/reviews?sort=submissionDate&dir=desc&ratingFilter=0',\n",
    "    'Captain America - Civil War': 'https://www.imdb.com/title/tt3498820/reviews?sort=submissionDate&dir=desc&ratingFilter=0',\n",
    "    'Doctor Strange': 'https://www.imdb.com/title/tt1211837/reviews?sort=submissionDate&dir=desc&ratingFilter=0',\n",
    "    'Guardiani della Galassia Vol. 2': 'https://www.imdb.com/title/tt3896198/reviews?sort=submissionDate&dir=desc&ratingFilter=0',\n",
    "    'Spider-Man - Homecoming': 'https://www.imdb.com/title/tt2250912/reviews?sort=submissionDate&dir=desc&ratingFilter=0',\n",
    "    'Thor - Ragnarok': 'https://www.imdb.com/title/tt3501632/reviews?sort=submissionDate&dir=desc&ratingFilter=0',\n",
    "    'Black Panther': 'https://www.imdb.com/title/tt3501632/reviews?sort=submissionDate&dir=desc&ratingFilter=0',\n",
    "    'Avengers - Infinity War': 'https://www.imdb.com/title/tt4154756/reviews?sort=submissionDate&dir=desc&ratingFilter=0',\n",
    "    'Ant-Man and the Wasp': 'https://www.imdb.com/title/tt5095030/reviews?sort=submissionDate&dir=desc&ratingFilter=0',\n",
    "    'Captain Marvel': 'https://www.imdb.com/title/tt4154664/reviews?sort=submissionDate&dir=desc&ratingFilter=0',\n",
    "    'Avengers - Endgame': 'https://www.imdb.com/title/tt4154796/reviews?sort=submissionDate&dir=desc&ratingFilter=0',\n",
    "    'Spider-Man - Far from Home': 'https://www.imdb.com/title/tt6320628/reviews?sort=submissionDate&dir=desc&ratingFilter=0',\n",
    "    'Black Widow': 'https://www.imdb.com/title/tt3480822/reviews?sort=submissionDate&dir=desc&ratingFilter=0',\n",
    "    'Shang-Chi e la leggenda dei Dieci Anelli': 'https://www.imdb.com/title/tt9376612/reviews?sort=submissionDate&dir=desc&ratingFilter=0',\n",
    "    'Eternals': 'https://www.imdb.com/title/tt9032400/reviews?sort=submissionDate&dir=desc&ratingFilter=0',\n",
    "    'Spider-Man - No Way Home': 'https://www.imdb.com/title/tt10872600/reviews?sort=submissionDate&dir=desc&ratingFilter=0'\n",
    "\n",
    "}"
   ]
  },
  {
   "cell_type": "markdown",
   "metadata": {},
   "source": [
    "Istanziamo una variabile con il percorso del **WebDriver**, nel nostro caso abbiamo utilizzato quello relativo al **browser Google Chrome**."
   ]
  },
  {
   "cell_type": "code",
   "execution_count": null,
   "metadata": {},
   "outputs": [],
   "source": [
    "path = 'chromedriver.exe'"
   ]
  },
  {
   "cell_type": "markdown",
   "metadata": {},
   "source": [
    "Inizializziamo l'oggetto \"pilot\" di tipo WebDriver utilizzando alcune opzioni utili dalla [documentazione](https://www.selenium.dev/selenium/docs/api/py/index.html). È possibile eventualmente aggiungere altre opzioni come \"start-maximized\", che esegue la finestra a tutto schermo oppure \"--headless\", per non visualizzare a schermo il browser ma lasciarlo in background. Abbiamo lasciato la riga di codice con queste opzioni come commento per lasciare la possibilità di decidere come procedere volta per volta"
   ]
  },
  {
   "cell_type": "code",
   "execution_count": null,
   "metadata": {},
   "outputs": [],
   "source": [
    "s=Service(path)\n",
    "options = webdriver.ChromeOptions()\n",
    "#options.add_argument(\"--headless\", \"start-maximized\")\n",
    "options.add_experimental_option('excludeSwitches', ['enable-logging'])\n",
    "pilot = webdriver.Chrome(service=s, options=options)"
   ]
  },
  {
   "cell_type": "markdown",
   "metadata": {},
   "source": [
    "Con un *ciclo for* eseguiamo lo scraping per tutti i film nel dizionario, ottenendo **chiavi** e **valori** con il metodo *.items()*"
   ]
  },
  {
   "cell_type": "code",
   "execution_count": null,
   "metadata": {},
   "outputs": [],
   "source": [
    "for key, value in films.items():"
   ]
  },
  {
   "cell_type": "markdown",
   "metadata": {},
   "source": [
    "Il primo passo da compiere all'interno del *ciclo for* è inizializzare il browser sulla pagina delle recensioni, di conseguenza passiamo al **WebDriver** il link del film, che cambierà in base al numero di iterazioni del *ciclo for*."
   ]
  },
  {
   "cell_type": "code",
   "execution_count": null,
   "metadata": {},
   "outputs": [],
   "source": [
    "    pilot.get(value)"
   ]
  },
  {
   "cell_type": "markdown",
   "metadata": {},
   "source": [
    "La pagina web relativa alle recensioni dei film, mostra di default solo le prime 25 recensioni, e solo premendo un *bottone* in fondo alla pagina che riporta la dicitura *\"Load more...\"* è possibile caricarne altre 25. Il codice HTML risulta così incompleto e poco utile ai fini dello scraping. La soluzione è premere il *bottone* in questione ogni volta finchè non verranno visualizzate tutte le recensioni relative al film, così che il codice HTML venga caricato mano mano e reso completo per poterlo analizzare.\n",
    "Implementiamo quindi un *ciclo while* senza condizione di uscita."
   ]
  },
  {
   "cell_type": "code",
   "execution_count": null,
   "metadata": {},
   "outputs": [],
   "source": [
    "    while True:"
   ]
  },
  {
   "cell_type": "markdown",
   "metadata": {},
   "source": [
    "All'interno del *while* viene eseguita l'istruzione per cliccare sul *bottone* ripetutamente. Gestiamo le possibili eccezioni **NoSuchElementException**, **ElementClickInterceptedException** e **ElementNotInteractableException**:\n",
    "1. **NoSuchElementException** si verifica se non è stato trovato il *bottone* che rispetta le condizioni di ricerca (potrebbe succedere ad esempio nel caso in cui le recensioni di un particolare film sono di meno di 25 e il bottone ovviamente non è presente). \n",
    "2. **ElementClickInterceptedException** si verifica quando un altro elemento HTML intercetta lo script (generalmente questo potrebbe succedere quando il padre di un elemento intercetta il click destinato a uno dei figli).\n",
    "3. **ElementNotInteractableException** si verifica quando il click è destinato a un elemento non cliccabile, che non esegue alcun reindirizzamento o alcuna funzione.\n",
    "\n",
    "Dai nostri test abbiamo rilevato che, quando si verifica qualsiasi tra le tre, è perchè o il *bottone* non è presente o con il *ciclo while* si sono già caricate tutte le recensioni possibili. Di conseguenza non gestiamo l'eccezione in maniera particolare, ma inseriamo semplicemente l'istruzione *break* per fermare il ciclo e proseguire con lo scraping."
   ]
  },
  {
   "cell_type": "code",
   "execution_count": null,
   "metadata": {},
   "outputs": [],
   "source": [
    "        try:\n",
    "            pilot.find_element(By.XPATH, '//div[@class=\"load-more-data\"]').click()\n",
    "        except NoSuchElementException:\n",
    "            break\n",
    "        except (ElementClickInterceptedException, ElementNotInteractableException):\n",
    "            break"
   ]
  },
  {
   "cell_type": "markdown",
   "metadata": {},
   "source": [
    "Durante lo scraping abbiamo incontrato un ulteriore difficoltà. IMDb dà la possibilità a chi scrive le recensioni di abilitare **un'opzione di spoiler** che nasconda il contenuto testuale della recensione, così che un qualsiasi utente che si trova nella pagina può scegliere liberamente se visualizzare un particolare contenuto o meno, senza appunto andare incontro a un brutto spoiler. Non tutte le recensioni sono nascoste dal momento che alcuni utenti si limitano a recensire il film senza fare alcun riferimento alla trama. Avremmo potuto analizzare solo queste, ma per completezza abbiamo voluto includerle tutte e per questo motivo si è reso necessario questo ulteriore passaggio.\n",
    "Istanziamo una lista *warning_buttons* che contiene tutti gli elementi **WebElement** associati ai *bottoni* che permettono di visualizzare la recensione con spoiler."
   ]
  },
  {
   "cell_type": "code",
   "execution_count": null,
   "metadata": {},
   "outputs": [],
   "source": [
    "    warning_buttons = pilot.find_elements(By.XPATH, './/div[@class=\"expander-icon-wrapper spoiler-warning__control\"]')"
   ]
  },
  {
   "cell_type": "markdown",
   "metadata": {},
   "source": [
    "Implementiamo un *ciclo for* che ci permette di eseguire operazioni per ognuno dei *bottoni* presenti nella lista *warning_buttons*"
   ]
  },
  {
   "cell_type": "code",
   "execution_count": null,
   "metadata": {},
   "outputs": [],
   "source": [
    "    for button in warning_buttons:"
   ]
  },
  {
   "cell_type": "markdown",
   "metadata": {},
   "source": [
    "Proviamo a fare click sul *bottone di spoiler*"
   ]
  },
  {
   "cell_type": "code",
   "execution_count": null,
   "metadata": {},
   "outputs": [],
   "source": [
    "        try:\n",
    "            button.click()"
   ]
  },
  {
   "cell_type": "markdown",
   "metadata": {},
   "source": [
    "Potrebbero come al solito essere generate eccezioni. Mentre nel caso precedente abbiamo semplicemente potuto fermare il ciclo, qui non è possibile perchè, se il click venisse intercettato bisogna trovare un modo per reindirizzarlo al destinatario originale. Abbiamo pensato di compiere quest'operazione passando all'oggetto **WebDriver** una stringa da eseguire come *script JavaScript*."
   ]
  },
  {
   "cell_type": "code",
   "execution_count": null,
   "metadata": {},
   "outputs": [],
   "source": [
    "        except (ElementClickInterceptedException, ElementNotInteractableException):\n",
    "            pilot.execute_script(\"arguments[0].click();\", button)"
   ]
  },
  {
   "cell_type": "markdown",
   "metadata": {},
   "source": [
    "Arrivati a questo punto il codice HTML è completo e possiamo procedere con il vero e proprio scraping.\n",
    "Individuiamo gli elementi **WebElement** che corrispondono ai box che contengono le intere recensioni."
   ]
  },
  {
   "cell_type": "code",
   "execution_count": null,
   "metadata": {},
   "outputs": [],
   "source": [
    "    reviews = pilot.find_elements(By.XPATH, './/div[@class=\"lister-item-content\"]')"
   ]
  },
  {
   "cell_type": "markdown",
   "metadata": {},
   "source": [
    "Il box, oltre a contenere il testo recensione, possiede altri elementi come ad esempio la data in cui è stata scritta, il nickname dell'autore, il voto attribuito al film, il titolo ecc.\n",
    "Istanziamo due liste in cui andremo ad aggiungere gli elementi che ci interessano di ogni recensione, ovvero il voto e il testo."
   ]
  },
  {
   "cell_type": "code",
   "execution_count": null,
   "metadata": {},
   "outputs": [],
   "source": [
    "    ratings = []\n",
    "    texts = []"
   ]
  },
  {
   "cell_type": "markdown",
   "metadata": {},
   "source": [
    "Con un altro *ciclo for* scorriamo la *lista* di oggetti **WebElement**"
   ]
  },
  {
   "cell_type": "code",
   "execution_count": null,
   "metadata": {},
   "outputs": [],
   "source": [
    "    for review in reviews:"
   ]
  },
  {
   "cell_type": "markdown",
   "metadata": {},
   "source": [
    "Partiamo dal voto. Lo catturiamo e lo aggiungiamo alla lista precedentemente istanziata.\n",
    "Abbiamo trovato, durante i nostri test, alcune recensioni prive di valutazione in decimi. Per come abbiamo poi implementato il progetto, abbiamo bisogno di recensioni che rispettino tutte lo stesso standard, e di conseguenza abbiamo escluso le suddette che sono davvero in numero esiguo (poche decine su migliaia)."
   ]
  },
  {
   "cell_type": "code",
   "execution_count": null,
   "metadata": {},
   "outputs": [],
   "source": [
    "        try:\n",
    "            rating = review.find_element(By.XPATH, './/div[@class=\"ipl-ratings-bar\"]').text.replace('\\n', '')\n",
    "            ratings.append(rating.split('/')[0])\n",
    "        except NoSuchElementException:\n",
    "            continue"
   ]
  },
  {
   "cell_type": "markdown",
   "metadata": {},
   "source": [
    "Lo stesso procedimento vale per il titolo,"
   ]
  },
  {
   "cell_type": "code",
   "execution_count": null,
   "metadata": {},
   "outputs": [],
   "source": [
    "        title = review.find_element(By.XPATH, './/a[@class=\"title\"]').text.replace('\\n', '')"
   ]
  },
  {
   "cell_type": "markdown",
   "metadata": {},
   "source": [
    "E per il contenuto testuale."
   ]
  },
  {
   "cell_type": "code",
   "execution_count": null,
   "metadata": {},
   "outputs": [],
   "source": [
    "        body = review.find_element(By.XPATH, './/div[contains(@class, \"text show-more__control\")]').text.replace('\\n', '')\n",
    "        texts.append(f'{title} {body}')"
   ]
  },
  {
   "cell_type": "markdown",
   "metadata": {},
   "source": [
    "A questo punto è finito il ciclo interno, le liste sono piene, e quindi organizziamo un *DataFrame* sfruttando la *libreria Pandas*."
   ]
  },
  {
   "cell_type": "code",
   "execution_count": null,
   "metadata": {},
   "outputs": [],
   "source": [
    "    df = DataFrame({\n",
    "        'Rating' : ratings,\n",
    "        'Reviews' : texts\n",
    "    })"
   ]
  },
  {
   "cell_type": "markdown",
   "metadata": {},
   "source": [
    "Per ogni DataFrame, di ogni film, creiamo un file con estensione \".csv\" con il nome del film che abbiamo utilizzato nel dizionario, così da poter organizzare i file per nome.\n",
    "Li posizioniamo nella cartella Reviews appositamente creata."
   ]
  },
  {
   "cell_type": "code",
   "execution_count": null,
   "metadata": {},
   "outputs": [],
   "source": [
    "    df.to_csv(f'.\\Reviews\\{key}.csv')"
   ]
  },
  {
   "cell_type": "markdown",
   "metadata": {},
   "source": [
    "Le recensioni sono davvero tante, e aumentano ogni giorno nonostante alcuni dei film analizzati sono vecchi di anni.</br>"
   ]
  }
 ],
 "metadata": {
  "interpreter": {
   "hash": "f61c34afe1c8a82af7570aafc799b9d8db293f2f552d69bbcd09ba68de3a437c"
  },
  "kernelspec": {
   "display_name": "Python 3 (ipykernel)",
   "language": "python",
   "name": "python3"
  },
  "language_info": {
   "codemirror_mode": {
    "name": "ipython",
    "version": 3
   },
   "file_extension": ".py",
   "mimetype": "text/x-python",
   "name": "python",
   "nbconvert_exporter": "python",
   "pygments_lexer": "ipython3",
   "version": "3.10.2"
  }
 },
 "nbformat": 4,
 "nbformat_minor": 2
}
