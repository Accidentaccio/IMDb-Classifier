{
 "cells": [
  {
   "cell_type": "markdown",
   "metadata": {},
   "source": [
    "Importiamo le librerie necessarie per l'addestramento del classificatore"
   ]
  },
  {
   "cell_type": "code",
   "execution_count": null,
   "metadata": {},
   "outputs": [],
   "source": [
    "from joblib import load\n",
    "from pandas import DataFrame, read_csv, ExcelWriter\n",
    "from os import chdir, listdir\n",
    "from sys import path\n",
    "from nltk import download\n",
    "from nltk.sentiment.vader import SentimentIntensityAnalyzer\n",
    "from Addestramento_Classificatore import text_preprocessing\n",
    "import matplotlib.pyplot as plt"
   ]
  },
  {
   "cell_type": "markdown",
   "metadata": {},
   "source": [
    "Ci spostiamo nella directory in cui viene eseguito il programma."
   ]
  },
  {
   "cell_type": "code",
   "execution_count": null,
   "metadata": {},
   "outputs": [],
   "source": [
    "chdir(path[0])"
   ]
  },
  {
   "cell_type": "markdown",
   "metadata": {},
   "source": [
    "Carichiamo il classificatore e gli altri oggetti necessari."
   ]
  },
  {
   "cell_type": "code",
   "execution_count": null,
   "metadata": {},
   "outputs": [],
   "source": [
    "clf = load('./Objects/clf.pkl')\n",
    "count_vect = load('./Objects/count_vect.pkl')\n",
    "tfidf_transformer = load('./Objects/tfidf_transformer.pkl')"
   ]
  },
  {
   "cell_type": "markdown",
   "metadata": {},
   "source": [
    "Eseguiamo il download del file per il SentimentIntesityAnalyzer() di nltk e ne creiamo un oggetto, insieme ad una lista da utilizzare dopo.\n"
   ]
  },
  {
   "cell_type": "code",
   "execution_count": null,
   "metadata": {},
   "outputs": [],
   "source": [
    "download('vader_lexicon')\n",
    "sa = SentimentIntensityAnalyzer()\n",
    "\n",
    "movies_results = []"
   ]
  },
  {
   "cell_type": "markdown",
   "metadata": {},
   "source": [
    "Il ciclo for dovrà analizzare tutti i file contenuti nella cartella *Reviews*"
   ]
  },
  {
   "cell_type": "code",
   "execution_count": null,
   "metadata": {},
   "outputs": [],
   "source": [
    "for file in listdir('./Reviews'):\n",
    "    pass"
   ]
  },
  {
   "cell_type": "markdown",
   "metadata": {},
   "source": [
    "Creiamo il dataframe leggendo i file .csv"
   ]
  },
  {
   "cell_type": "code",
   "execution_count": null,
   "metadata": {},
   "outputs": [],
   "source": [
    "    df = read_csv(f'./Reviews/{file}')"
   ]
  },
  {
   "cell_type": "markdown",
   "metadata": {},
   "source": [
    "Applichiamo il preprocessing a tutte le recensioni."
   ]
  },
  {
   "cell_type": "code",
   "execution_count": null,
   "metadata": {},
   "outputs": [],
   "source": [
    "    df['Reviews'] = df['Reviews'].map(text_preprocessing)"
   ]
  },
  {
   "cell_type": "markdown",
   "metadata": {},
   "source": [
    "Come già fatto per il test del classificatore eseguiamo questi altri test,"
   ]
  },
  {
   "cell_type": "code",
   "execution_count": null,
   "metadata": {},
   "outputs": [],
   "source": [
    "    X_test_matrix = count_vect.transform(df['Reviews'])\n",
    "    X_test_tfidf = tfidf_transformer.transform(X_test_matrix)\n",
    "\n",
    "    predicted = clf.predict(X_test_tfidf)"
   ]
  },
  {
   "cell_type": "markdown",
   "metadata": {},
   "source": [
    "Otteniamo il numero delle recensioni andando a prendere il numero di elementi in una colonna, la prima in questo caso ma non ha importanza. Hanno infatti tutte lo stesso numero di elementi."
   ]
  },
  {
   "cell_type": "code",
   "execution_count": null,
   "metadata": {},
   "outputs": [],
   "source": [
    "    number_reviews = df.count()[0]"
   ]
  },
  {
   "cell_type": "markdown",
   "metadata": {},
   "source": [
    "Facciamo una semplice media con tutti gli i voti delle recensioni IMDb."
   ]
  },
  {
   "cell_type": "code",
   "execution_count": null,
   "metadata": {},
   "outputs": [],
   "source": [
    "    average = 0\n",
    "    for item in df['Rating']:\n",
    "        average += item\n",
    "    average /= number_reviews"
   ]
  },
  {
   "cell_type": "markdown",
   "metadata": {},
   "source": [
    "Convertiamo il numpy array in una tupla e contiamo gli elementi che corrispondono alla stringa **'positive'**.\n",
    "Successivamente il tasso positivo è calcolato come il rapporto tra i positivi e il numero totale, poi passato in percentuale."
   ]
  },
  {
   "cell_type": "code",
   "execution_count": null,
   "metadata": {},
   "outputs": [],
   "source": [
    "    positives = tuple(predicted).count('positive')\n",
    "    positive_rate = (positives/number_reviews)*100"
   ]
  },
  {
   "cell_type": "markdown",
   "metadata": {},
   "source": [
    "Ci occupiamo ora del tasso di positività da ottenere con il SentimentIntesityAnalyzer() di nltk.\n",
    "Passiamo ognuno delle recensioni al metodo *polarity_scores*, che restituisce un dizionario formato che conterrà le chiavi relative al valore positivo, neutro, negativo e composto. Siccome stiamo analizzando solo i positivi, al dizionario ottenuto tramite il metodo applico la lettura del valore tramite chiave **'pos'**. Il resto è una semplice media passata poi in percentuale."
   ]
  },
  {
   "cell_type": "code",
   "execution_count": null,
   "metadata": {},
   "outputs": [],
   "source": [
    "    positive_rate_nltk = 0\n",
    "    for item in df['Reviews']:\n",
    "        positive_rate_nltk += sa.polarity_scores(item)['pos']\n",
    "    positive_rate_nltk = (positive_rate_nltk/number_reviews)*100"
   ]
  },
  {
   "cell_type": "markdown",
   "metadata": {},
   "source": [
    "Creo un dizionario con le informazioni necessarie all'analisi. Per quanto riguarda le informazioni numeriche abbiamo inserito la funzione *round* per approssimare a due cifre dopo la virgola.\n",
    "Successivamente inseriamo il dizionario nella lista che contenenti i dizionari di tutti i film."
   ]
  },
  {
   "cell_type": "code",
   "execution_count": null,
   "metadata": {},
   "outputs": [],
   "source": [
    "    dictionary = {\n",
    "        'Movie' : file.replace('.csv', ''),\n",
    "        'Rating' : f'{round(average, 2)}/10',\n",
    "        'Reviews' : number_reviews,\n",
    "        'Positive rate' : f'{round(positive_rate, 2)}%',\n",
    "        'Positive rate nltk' : f'{round(positive_rate_nltk, 2)}%'\n",
    "    }\n",
    "\n",
    "    movies_results.append(dictionary)"
   ]
  },
  {
   "cell_type": "markdown",
   "metadata": {},
   "source": [
    "Finito il ciclo for, creiamo un *dataframe* con i risultati ottenuti."
   ]
  },
  {
   "cell_type": "code",
   "execution_count": null,
   "metadata": {},
   "outputs": [],
   "source": [
    "df = DataFrame(movies_results)"
   ]
  },
  {
   "cell_type": "markdown",
   "metadata": {},
   "source": [
    "Sfruttando la libreria *xlsxwriter* creiamo anche un file excel in cui esportare i risultati."
   ]
  },
  {
   "cell_type": "code",
   "execution_count": null,
   "metadata": {},
   "outputs": [],
   "source": [
    "excel_file = ExcelWriter('./Results/Results_Sorted.xlsx', engine='xlsxwriter')"
   ]
  },
  {
   "cell_type": "markdown",
   "metadata": {},
   "source": [
    "Ordino il dataframe in tre modi:\n",
    "1. In maniera decrescente per *voti* delle recensioni IMDb.\n",
    "2. In maniera decrescente per *tasso di positività* del nostro classificatore\n",
    "3. In maniera decrescente per *tasso di positività* del SentimentIntesityAnalyzer() di nltk\n",
    "\n",
    "Tutti e tre vengono stampati a schermo e inseriti in un foglio di calcolo Excel uno di fianco all'altro."
   ]
  },
  {
   "cell_type": "code",
   "execution_count": null,
   "metadata": {},
   "outputs": [],
   "source": [
    "df.sort_values(by = 'Rating', ascending=False)\n",
    "df.to_excel(excel_file, sheet_name='Marvel_Analysis')\n",
    "print(df)\n",
    "\n",
    "df.sort_values(by = 'Positive rate', ascending=False)\n",
    "df.to_excel(excel_file, sheet_name='Marvel_Analysis', startcol=9)\n",
    "print(df)\n",
    "\n",
    "df.sort_values(by = 'Positive rate nltk', ascending=False)\n",
    "df.to_excel(excel_file, sheet_name='Marvel_Analysis', startcol=18)\n",
    "print(df)"
   ]
  },
  {
   "cell_type": "markdown",
   "metadata": {},
   "source": [
    "Infine salviamo il file excel."
   ]
  },
  {
   "cell_type": "code",
   "execution_count": null,
   "metadata": {},
   "outputs": [],
   "source": [
    "excel_file.save()"
   ]
  }
 ],
 "metadata": {
  "interpreter": {
   "hash": "f61c34afe1c8a82af7570aafc799b9d8db293f2f552d69bbcd09ba68de3a437c"
  },
  "kernelspec": {
   "display_name": "Python 3.10.2 ('Progetto_IA': venv)",
   "language": "python",
   "name": "python3"
  },
  "language_info": {
   "codemirror_mode": {
    "name": "ipython",
    "version": 3
   },
   "file_extension": ".py",
   "mimetype": "text/x-python",
   "name": "python",
   "nbconvert_exporter": "python",
   "pygments_lexer": "ipython3",
   "version": "3.10.2"
  },
  "orig_nbformat": 4
 },
 "nbformat": 4,
 "nbformat_minor": 2
}
